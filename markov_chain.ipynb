{
 "cells": [
  {
   "cell_type": "code",
   "execution_count": 1,
   "metadata": {},
   "outputs": [],
   "source": [
    "import numpy as np\n",
    "\n",
    "class NGram:\n",
    "\n",
    "    def ngram(self, text, n=2):\n",
    "        text_list = text.lower().split()\n",
    "        grams = [tuple(text_list[index:index+n]) for index in range(0, len(text_list) - (n-1))]\n",
    "        return grams\n",
    "\n",
    "    def bigram(self, text):\n",
    "        return self.ngram(text, n=2)\n",
    "\n",
    "    def trigram(self, text):\n",
    "        return self.ngram(text, n=3)\n",
    "    \n",
    "class MarkovChain:\n",
    "    def __init__(self):\n",
    "        self.model = {}\n",
    "    \n",
    "    def calculate_probabilities(self):\n",
    "        for key in self.model:\n",
    "            total_sum = np.sum(self.model[key]['counts'])\n",
    "            self.model[key]['probability'] = [x/total_sum for x in self.model[key]['counts']]\n",
    "            \n",
    "    def train_model(self,text):\n",
    "        \n",
    "        ngram = NGram()\n",
    "        \n",
    "        bigrams = ngram.bigram(text)\n",
    "        \n",
    "        for bigram in bigrams:\n",
    "            if bigram[0] not in self.model:\n",
    "                self.model[bigram[0]]= {\n",
    "                    'values': [bigram[1]],\n",
    "                    'counts': [1],\n",
    "                    'probability': []\n",
    "                }\n",
    "            else:\n",
    "                if bigram[1] not in self.model[bigram[0]]['values']:\n",
    "                    self.model[bigram[0]]['values'].append(bigram[1])\n",
    "                    self.model[bigram[0]]['counts'].append(1)\n",
    "                else:\n",
    "                    index = self.model[bigram[0]]['values'].index(bigram[1])\n",
    "                    self.model[bigram[0]]['counts'][index] = self.model[bigram[0]]['counts'][index] + 1\n",
    "            \n",
    "            self.calculate_probabilities()\n",
    "    \n",
    "    def generate_text(self, n):\n",
    "        sentence = ''\n",
    "        current_word = np.random.choice(list(self.model.keys()))\n",
    "        sentence += current_word\n",
    "        for index in range(n):\n",
    "            try:\n",
    "                current_word = np.random.choice(self.model[current_word]['values'],p=self.model[current_word]['probability'])\n",
    "                sentence += ' '+current_word\n",
    "            except:\n",
    "                return sentence   \n",
    "        return sentence\n",
    "    \n",
    "    def generate_sentence(self):\n",
    "        sentence = ''\n",
    "        current_word = np.random.choice(list(self.model.keys()))\n",
    "        sentence += current_word\n",
    "        while '.' not in current_word:\n",
    "            try:\n",
    "                current_word = np.random.choice(self.model[current_word]['values'],p=self.model[current_word]['probability'])\n",
    "                sentence += ' '+current_word\n",
    "            except:\n",
    "                return sentence   \n",
    "        return sentence\n",
    "    "
   ]
  },
  {
   "cell_type": "code",
   "execution_count": 2,
   "metadata": {},
   "outputs": [],
   "source": [
    "text = \"Having acquired the Power Stone, one of the six Infinity Stones, from the planet Xandar, Thanos and his lieutenants—Ebony Maw, Cull Obsidian, Proxima Midnight, and Corvus Glaive—intercept a spaceship carrying the surviving Asgardians.[N 1] As they extract the Space Stone from the Tesseract, Thanos subdues Thor, overpowers Hulk, and kills Loki. Heimdall sends Hulk to Earth using the Bifröst before being killed. Thanos departs with his lieutenants and obliterates the ship. Hulk crash-lands at the Sanctum Sanctorum in New York City, reverting to Bruce Banner. He warns Stephen Strange and Wong about Thanos' plan to kill half of all life in the universe; in response, Strange recruits Tony Stark. Maw and Obsidian arrive to retrieve the Time Stone from Strange, drawing the attention of Peter Parker. Maw captures Strange, but fails to take the Time Stone due to an enchantment. Stark and Parker pursue Maw's spaceship, Banner contacts Steve Rogers, and Wong stays behind to guard the Sanctum. In Edinburgh, Midnight and Glaive ambush Wanda Maximoff and Vision in order to retrieve the Mind Stone in Vision's forehead. Rogers, Natasha Romanoff, and Sam Wilson rescue them and take shelter with James Rhodes and Banner at the Avengers Facility. Vision offers to sacrifice himself by having Maximoff destroy the Mind Stone to keep Thanos from retrieving it. Rogers suggests they travel to Wakanda, which he believes has the resources to remove the stone without destroying Vision. The Guardians of the Galaxy respond to a distress call from the Asgardian ship and rescue Thor, who surmises Thanos seeks the Reality Stone, which is in the possession of the Collector on Knowhere. Rocket and Groot accompany Thor to Nidavellir, where they and Eitri create Stormbreaker, a battle-axe capable of killing Thanos. On Knowhere, Peter Quill, Gamora, Drax, and Mantis find Thanos with the Reality Stone already in his possession. Thanos kidnaps Gamora, his adopted daughter, who reveals the location of the Soul Stone to save her captive adopted sister Nebula from torture. Thanos and Gamora travel to Vormir, where Red Skull, keeper of the Soul Stone, informs him the stone can only be retrieved by sacrificing someone he loves. Thanos reluctantly kills Gamora, earning the stone. Nebula escapes captivity and asks the remaining Guardians to meet her on Thanos' destroyed homeworld, Titan. Stark and Parker kill Maw and rescue Strange. Landing on Titan, they meet Quill, Drax, and Mantis. The group forms a plan to remove Thanos' Infinity Gauntlet after Strange uses the Time Stone to view millions of possible futures, seeing only one in which Thanos loses. Thanos arrives, justifying his plans as necessary to ensure the survival of a universe threatened by overpopulation. The group subdues him until Nebula deduces that Thanos has killed Gamora. Enraged, Quill attacks him, allowing Thanos to break the group's hold and overpower them. Stark is seriously wounded by Thanos, but is spared after Strange surrenders the Time Stone to Thanos. In Wakanda, Rogers reunites with Bucky Barnes before Thanos' army invades. The Avengers, alongside T'Challa and the Wakandan forces, mount a defense while Shuri works to extract the Mind Stone from Vision. Banner, unable to transform into the Hulk, fights in Stark's Hulkbuster armor. Thor, Rocket, and Groot arrive to reinforce the Avengers; Midnight, Obsidian, and Glaive are killed and their army is routed. Thanos arrives and despite Maximoff's attempt to destroy the Mind Stone, removes it from Vision's head, killing him. Thor severely wounds Thanos, but Thanos activates the completed Infinity Gauntlet and teleports away. Half of all life across the universe disintegrates, including Barnes, T'Challa, Groot, Maximoff, Wilson, Mantis, Drax, Quill, Strange, and Parker, as well as Maria Hill and Nick Fury, although Fury is able to transmit a signal to Carol Danvers first.[N 2] Stark and Nebula remain on Titan while Banner, M'Baku, Okoye, Rhodes, Rocket, Rogers, Romanoff, and Thor are left on the Wakandan battlefield. Meanwhile, Thanos watches a sunrise on another planet.\""
   ]
  },
  {
   "cell_type": "code",
   "execution_count": 3,
   "metadata": {},
   "outputs": [],
   "source": [
    "chain = MarkovChain()\n",
    "for sentence in text.split('.'):\n",
    "    chain.train_model(sentence)"
   ]
  },
  {
   "cell_type": "code",
   "execution_count": 4,
   "metadata": {},
   "outputs": [
    {
     "name": "stdout",
     "output_type": "stream",
     "text": [
      "1. avengers facility\n",
      "2. an enchantment\n",
      "3. her captive adopted sister nebula remain on thanos' army is spared after strange and parker kill maw and glaive ambush wanda\n",
      "4. ship and wong about thanos' infinity gauntlet after strange uses the avengers; midnight, obsidian, proxima midnight, and glaive ambush wanda maximoff\n",
      "5. nidavellir, where they travel to keep thanos and mantis find thanos reluctantly kills gamora, drax, and gamora travel to kill half\n",
      "6. fury is able to remove the collector on another planet xandar, thanos from retrieving it from the asgardian ship and obsidian\n",
      "7. ambush wanda maximoff destroy the reality stone, informs him the ship and their army invades\n",
      "8. all life across the hulk, and glaive are left on titan while banner, m'baku, okoye, rhodes, rocket, and rescue thor, who\n",
      "9. hulk crash-lands at the mind stone, which thanos kidnaps gamora, drax, quill, gamora, drax, and mantis find thanos arrives and sam\n",
      "10. bucky barnes before being killed gamora travel to reinforce the planet xandar, thanos has killed and wong stays behind to ensure\n"
     ]
    }
   ],
   "source": [
    "for index in range(1,11):\n",
    "    print(str(index)+'. '+chain.generate_text(20))"
   ]
  },
  {
   "cell_type": "code",
   "execution_count": 5,
   "metadata": {},
   "outputs": [
    {
     "name": "stdout",
     "output_type": "stream",
     "text": [
      "1. location of the avengers; midnight, and parker, as they travel to nidavellir, where they travel to guard the ship.\n",
      "2. break the stone.\n",
      "3. quill attacks him, allowing thanos watches a spaceship carrying the stone to retrieve the ship.\n",
      "4. possession of all life across the six infinity gauntlet and parker pursue maw's spaceship, banner at the collector on thanos' infinity gauntlet and take shelter with james rhodes and obsidian arrive to save her on knowhere.\n",
      "5. captures strange, but fails to remove the six infinity gauntlet after strange surrenders the avengers; midnight, obsidian, and his possession.\n",
      "6. kidnaps gamora, his lieutenants—ebony maw, cull obsidian, proxima midnight, and mantis.\n",
      "7. parker, as well as necessary to destroy the stone.\n",
      "8. gamora, earning the avengers; midnight, obsidian, and glaive ambush wanda maximoff and their army is in new york city, reverting to view millions of peter parker.\n",
      "9. strange recruits tony stark.\n",
      "10. are killed gamora.\n"
     ]
    }
   ],
   "source": [
    "chain = MarkovChain()\n",
    "chain.train_model(text)    \n",
    "for index in range(1,11):\n",
    "    print(str(index)+'. '+chain.generate_sentence())"
   ]
  },
  {
   "cell_type": "code",
   "execution_count": null,
   "metadata": {},
   "outputs": [],
   "source": []
  },
  {
   "cell_type": "code",
   "execution_count": null,
   "metadata": {},
   "outputs": [],
   "source": []
  }
 ],
 "metadata": {
  "kernelspec": {
   "display_name": "Python 3",
   "language": "python",
   "name": "python3"
  },
  "language_info": {
   "codemirror_mode": {
    "name": "ipython",
    "version": 3
   },
   "file_extension": ".py",
   "mimetype": "text/x-python",
   "name": "python",
   "nbconvert_exporter": "python",
   "pygments_lexer": "ipython3",
   "version": "3.6.5"
  }
 },
 "nbformat": 4,
 "nbformat_minor": 2
}
